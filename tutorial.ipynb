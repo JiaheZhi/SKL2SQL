{
 "cells": [
  {
   "cell_type": "markdown",
   "metadata": {},
   "source": [
    "Take car dataset as an example. We briefly introduce how to build and train an ML pipeline, and how to translate the trained pipeline into pure SQL, to execute the pipeline in databases natively."
   ]
  },
  {
   "cell_type": "markdown",
   "metadata": {},
   "source": [
    "#### Environment set-up"
   ]
  },
  {
   "cell_type": "code",
   "execution_count": 1,
   "metadata": {},
   "outputs": [
    {
     "name": "stdout",
     "output_type": "stream",
     "text": [
      "Looking in indexes: https://pypi.tuna.tsinghua.edu.cn/simple\n",
      "Requirement already satisfied: altair==5.3.0 in /usr/local/miniconda3/envs/scikit-learn/lib/python3.11/site-packages (from -r requirements.txt (line 1)) (5.3.0)\n",
      "Requirement already satisfied: anyio==4.0.0 in /usr/local/miniconda3/envs/scikit-learn/lib/python3.11/site-packages (from -r requirements.txt (line 2)) (4.0.0)\n",
      "Requirement already satisfied: argon2-cffi==23.1.0 in /usr/local/miniconda3/envs/scikit-learn/lib/python3.11/site-packages (from -r requirements.txt (line 3)) (23.1.0)\n",
      "Requirement already satisfied: argon2-cffi-bindings==21.2.0 in /usr/local/miniconda3/envs/scikit-learn/lib/python3.11/site-packages (from -r requirements.txt (line 4)) (21.2.0)\n",
      "Requirement already satisfied: arrow==1.3.0 in /usr/local/miniconda3/envs/scikit-learn/lib/python3.11/site-packages (from -r requirements.txt (line 5)) (1.3.0)\n",
      "Requirement already satisfied: asttokens==2.4.1 in /usr/local/miniconda3/envs/scikit-learn/lib/python3.11/site-packages (from -r requirements.txt (line 6)) (2.4.1)\n",
      "Requirement already satisfied: async-lru==2.0.4 in /usr/local/miniconda3/envs/scikit-learn/lib/python3.11/site-packages (from -r requirements.txt (line 7)) (2.0.4)\n",
      "Requirement already satisfied: attrs==23.1.0 in /usr/local/miniconda3/envs/scikit-learn/lib/python3.11/site-packages (from -r requirements.txt (line 8)) (23.1.0)\n",
      "Requirement already satisfied: Babel==2.13.1 in /usr/local/miniconda3/envs/scikit-learn/lib/python3.11/site-packages (from -r requirements.txt (line 9)) (2.13.1)\n",
      "Requirement already satisfied: beautifulsoup4==4.12.2 in /usr/local/miniconda3/envs/scikit-learn/lib/python3.11/site-packages (from -r requirements.txt (line 10)) (4.12.2)\n",
      "Requirement already satisfied: bleach==6.1.0 in /usr/local/miniconda3/envs/scikit-learn/lib/python3.11/site-packages (from -r requirements.txt (line 11)) (6.1.0)\n",
      "Requirement already satisfied: blinker==1.8.2 in /usr/local/miniconda3/envs/scikit-learn/lib/python3.11/site-packages (from -r requirements.txt (line 12)) (1.8.2)\n",
      "Requirement already satisfied: cachetools==5.4.0 in /usr/local/miniconda3/envs/scikit-learn/lib/python3.11/site-packages (from -r requirements.txt (line 13)) (5.4.0)\n",
      "Requirement already satisfied: category-encoders==2.6.3 in /usr/local/miniconda3/envs/scikit-learn/lib/python3.11/site-packages (from -r requirements.txt (line 14)) (2.6.3)\n",
      "Requirement already satisfied: certifi==2023.7.22 in /usr/local/miniconda3/envs/scikit-learn/lib/python3.11/site-packages (from -r requirements.txt (line 15)) (2023.7.22)\n",
      "Requirement already satisfied: cffi==1.16.0 in /usr/local/miniconda3/envs/scikit-learn/lib/python3.11/site-packages (from -r requirements.txt (line 16)) (1.16.0)\n",
      "Requirement already satisfied: charset-normalizer==3.3.2 in /usr/local/miniconda3/envs/scikit-learn/lib/python3.11/site-packages (from -r requirements.txt (line 17)) (3.3.2)\n",
      "Requirement already satisfied: click==8.1.7 in /usr/local/miniconda3/envs/scikit-learn/lib/python3.11/site-packages (from -r requirements.txt (line 18)) (8.1.7)\n",
      "Requirement already satisfied: clickhouse-connect==0.8.3 in /usr/local/miniconda3/envs/scikit-learn/lib/python3.11/site-packages (from -r requirements.txt (line 19)) (0.8.3)\n",
      "Requirement already satisfied: comm==0.1.4 in /usr/local/miniconda3/envs/scikit-learn/lib/python3.11/site-packages (from -r requirements.txt (line 20)) (0.1.4)\n",
      "Requirement already satisfied: contourpy==1.1.1 in /usr/local/miniconda3/envs/scikit-learn/lib/python3.11/site-packages (from -r requirements.txt (line 21)) (1.1.1)\n",
      "Requirement already satisfied: cycler==0.12.1 in /usr/local/miniconda3/envs/scikit-learn/lib/python3.11/site-packages (from -r requirements.txt (line 22)) (0.12.1)\n",
      "Requirement already satisfied: debugpy==1.8.0 in /usr/local/miniconda3/envs/scikit-learn/lib/python3.11/site-packages (from -r requirements.txt (line 23)) (1.8.0)\n",
      "Requirement already satisfied: decorator==5.1.1 in /usr/local/miniconda3/envs/scikit-learn/lib/python3.11/site-packages (from -r requirements.txt (line 24)) (5.1.1)\n",
      "Requirement already satisfied: defusedxml==0.7.1 in /usr/local/miniconda3/envs/scikit-learn/lib/python3.11/site-packages (from -r requirements.txt (line 25)) (0.7.1)\n",
      "Requirement already satisfied: duckdb==0.8.1 in /usr/local/miniconda3/envs/scikit-learn/lib/python3.11/site-packages (from -r requirements.txt (line 26)) (0.8.1)\n",
      "Requirement already satisfied: executing==2.0.1 in /usr/local/miniconda3/envs/scikit-learn/lib/python3.11/site-packages (from -r requirements.txt (line 27)) (2.0.1)\n",
      "Requirement already satisfied: fastjsonschema==2.18.1 in /usr/local/miniconda3/envs/scikit-learn/lib/python3.11/site-packages (from -r requirements.txt (line 28)) (2.18.1)\n",
      "Requirement already satisfied: fonttools==4.43.1 in /usr/local/miniconda3/envs/scikit-learn/lib/python3.11/site-packages (from -r requirements.txt (line 29)) (4.43.1)\n",
      "Requirement already satisfied: fqdn==1.5.1 in /usr/local/miniconda3/envs/scikit-learn/lib/python3.11/site-packages (from -r requirements.txt (line 30)) (1.5.1)\n",
      "Requirement already satisfied: gitdb==4.0.11 in /usr/local/miniconda3/envs/scikit-learn/lib/python3.11/site-packages (from -r requirements.txt (line 31)) (4.0.11)\n",
      "Requirement already satisfied: GitPython==3.1.43 in /usr/local/miniconda3/envs/scikit-learn/lib/python3.11/site-packages (from -r requirements.txt (line 32)) (3.1.43)\n",
      "Requirement already satisfied: idna==3.4 in /usr/local/miniconda3/envs/scikit-learn/lib/python3.11/site-packages (from -r requirements.txt (line 33)) (3.4)\n",
      "Requirement already satisfied: importlib_metadata==7.2.1 in /usr/local/miniconda3/envs/scikit-learn/lib/python3.11/site-packages (from -r requirements.txt (line 34)) (7.2.1)\n",
      "Requirement already satisfied: ipykernel==6.26.0 in /usr/local/miniconda3/envs/scikit-learn/lib/python3.11/site-packages (from -r requirements.txt (line 35)) (6.26.0)\n",
      "Requirement already satisfied: ipython==8.17.2 in /usr/local/miniconda3/envs/scikit-learn/lib/python3.11/site-packages (from -r requirements.txt (line 36)) (8.17.2)\n",
      "Requirement already satisfied: ipython-genutils==0.2.0 in /usr/local/miniconda3/envs/scikit-learn/lib/python3.11/site-packages (from -r requirements.txt (line 37)) (0.2.0)\n",
      "Requirement already satisfied: ipywidgets==8.1.1 in /usr/local/miniconda3/envs/scikit-learn/lib/python3.11/site-packages (from -r requirements.txt (line 38)) (8.1.1)\n",
      "Requirement already satisfied: isoduration==20.11.0 in /usr/local/miniconda3/envs/scikit-learn/lib/python3.11/site-packages (from -r requirements.txt (line 39)) (20.11.0)\n",
      "Requirement already satisfied: jedi==0.19.1 in /usr/local/miniconda3/envs/scikit-learn/lib/python3.11/site-packages (from -r requirements.txt (line 40)) (0.19.1)\n",
      "Requirement already satisfied: Jinja2==3.1.2 in /usr/local/miniconda3/envs/scikit-learn/lib/python3.11/site-packages (from -r requirements.txt (line 41)) (3.1.2)\n",
      "Requirement already satisfied: joblib==1.3.2 in /usr/local/miniconda3/envs/scikit-learn/lib/python3.11/site-packages (from -r requirements.txt (line 42)) (1.3.2)\n",
      "Requirement already satisfied: json5==0.9.14 in /usr/local/miniconda3/envs/scikit-learn/lib/python3.11/site-packages (from -r requirements.txt (line 43)) (0.9.14)\n",
      "Requirement already satisfied: jsonpointer==2.4 in /usr/local/miniconda3/envs/scikit-learn/lib/python3.11/site-packages (from -r requirements.txt (line 44)) (2.4)\n",
      "Requirement already satisfied: jsonschema==4.19.2 in /usr/local/miniconda3/envs/scikit-learn/lib/python3.11/site-packages (from -r requirements.txt (line 45)) (4.19.2)\n",
      "Requirement already satisfied: jsonschema-specifications==2023.7.1 in /usr/local/miniconda3/envs/scikit-learn/lib/python3.11/site-packages (from -r requirements.txt (line 46)) (2023.7.1)\n",
      "Requirement already satisfied: jupyter==1.0.0 in /usr/local/miniconda3/envs/scikit-learn/lib/python3.11/site-packages (from -r requirements.txt (line 47)) (1.0.0)\n",
      "Requirement already satisfied: jupyter-console==6.6.3 in /usr/local/miniconda3/envs/scikit-learn/lib/python3.11/site-packages (from -r requirements.txt (line 48)) (6.6.3)\n",
      "Requirement already satisfied: jupyter-events==0.8.0 in /usr/local/miniconda3/envs/scikit-learn/lib/python3.11/site-packages (from -r requirements.txt (line 49)) (0.8.0)\n",
      "Requirement already satisfied: jupyter-lsp==2.2.0 in /usr/local/miniconda3/envs/scikit-learn/lib/python3.11/site-packages (from -r requirements.txt (line 50)) (2.2.0)\n",
      "Requirement already satisfied: jupyter_client==8.5.0 in /usr/local/miniconda3/envs/scikit-learn/lib/python3.11/site-packages (from -r requirements.txt (line 51)) (8.5.0)\n",
      "Requirement already satisfied: jupyter_core==5.5.0 in /usr/local/miniconda3/envs/scikit-learn/lib/python3.11/site-packages (from -r requirements.txt (line 52)) (5.5.0)\n",
      "Requirement already satisfied: jupyter_server==2.9.1 in /usr/local/miniconda3/envs/scikit-learn/lib/python3.11/site-packages (from -r requirements.txt (line 53)) (2.9.1)\n",
      "Requirement already satisfied: jupyter_server_terminals==0.4.4 in /usr/local/miniconda3/envs/scikit-learn/lib/python3.11/site-packages (from -r requirements.txt (line 54)) (0.4.4)\n",
      "Requirement already satisfied: jupyterlab==4.0.8 in /usr/local/miniconda3/envs/scikit-learn/lib/python3.11/site-packages (from -r requirements.txt (line 55)) (4.0.8)\n",
      "Requirement already satisfied: jupyterlab-pygments==0.2.2 in /usr/local/miniconda3/envs/scikit-learn/lib/python3.11/site-packages (from -r requirements.txt (line 56)) (0.2.2)\n",
      "Requirement already satisfied: jupyterlab-widgets==3.0.9 in /usr/local/miniconda3/envs/scikit-learn/lib/python3.11/site-packages (from -r requirements.txt (line 57)) (3.0.9)\n",
      "Requirement already satisfied: jupyterlab_server==2.25.0 in /usr/local/miniconda3/envs/scikit-learn/lib/python3.11/site-packages (from -r requirements.txt (line 58)) (2.25.0)\n",
      "Requirement already satisfied: kiwisolver==1.4.5 in /usr/local/miniconda3/envs/scikit-learn/lib/python3.11/site-packages (from -r requirements.txt (line 59)) (1.4.5)\n",
      "Requirement already satisfied: liac-arff==2.5.0 in /usr/local/miniconda3/envs/scikit-learn/lib/python3.11/site-packages (from -r requirements.txt (line 60)) (2.5.0)\n",
      "Requirement already satisfied: lz4==4.3.3 in /usr/local/miniconda3/envs/scikit-learn/lib/python3.11/site-packages (from -r requirements.txt (line 61)) (4.3.3)\n",
      "Requirement already satisfied: markdown-it-py==3.0.0 in /usr/local/miniconda3/envs/scikit-learn/lib/python3.11/site-packages (from -r requirements.txt (line 62)) (3.0.0)\n",
      "Requirement already satisfied: MarkupSafe==2.1.3 in /usr/local/miniconda3/envs/scikit-learn/lib/python3.11/site-packages (from -r requirements.txt (line 63)) (2.1.3)\n",
      "Requirement already satisfied: matplotlib==3.8.1 in /usr/local/miniconda3/envs/scikit-learn/lib/python3.11/site-packages (from -r requirements.txt (line 64)) (3.8.1)\n",
      "Requirement already satisfied: matplotlib-inline==0.1.6 in /usr/local/miniconda3/envs/scikit-learn/lib/python3.11/site-packages (from -r requirements.txt (line 65)) (0.1.6)\n",
      "Requirement already satisfied: mdurl==0.1.2 in /usr/local/miniconda3/envs/scikit-learn/lib/python3.11/site-packages (from -r requirements.txt (line 66)) (0.1.2)\n",
      "Requirement already satisfied: minio==7.1.17 in /usr/local/miniconda3/envs/scikit-learn/lib/python3.11/site-packages (from -r requirements.txt (line 67)) (7.1.17)\n",
      "Requirement already satisfied: mistune==3.0.2 in /usr/local/miniconda3/envs/scikit-learn/lib/python3.11/site-packages (from -r requirements.txt (line 68)) (3.0.2)\n",
      "Requirement already satisfied: mpmath==1.3.0 in /usr/local/miniconda3/envs/scikit-learn/lib/python3.11/site-packages (from -r requirements.txt (line 69)) (1.3.0)\n",
      "Requirement already satisfied: nbclient==0.8.0 in /usr/local/miniconda3/envs/scikit-learn/lib/python3.11/site-packages (from -r requirements.txt (line 70)) (0.8.0)\n",
      "Requirement already satisfied: nbconvert==7.10.0 in /usr/local/miniconda3/envs/scikit-learn/lib/python3.11/site-packages (from -r requirements.txt (line 71)) (7.10.0)\n",
      "Requirement already satisfied: nbformat==5.9.2 in /usr/local/miniconda3/envs/scikit-learn/lib/python3.11/site-packages (from -r requirements.txt (line 72)) (5.9.2)\n",
      "Requirement already satisfied: nest-asyncio==1.5.8 in /usr/local/miniconda3/envs/scikit-learn/lib/python3.11/site-packages (from -r requirements.txt (line 73)) (1.5.8)\n",
      "Requirement already satisfied: notebook==7.0.6 in /usr/local/miniconda3/envs/scikit-learn/lib/python3.11/site-packages (from -r requirements.txt (line 74)) (7.0.6)\n",
      "Requirement already satisfied: notebook_shim==0.2.3 in /usr/local/miniconda3/envs/scikit-learn/lib/python3.11/site-packages (from -r requirements.txt (line 75)) (0.2.3)\n",
      "Requirement already satisfied: numpy==1.26.1 in /usr/local/miniconda3/envs/scikit-learn/lib/python3.11/site-packages (from -r requirements.txt (line 76)) (1.26.1)\n",
      "Requirement already satisfied: openml==0.14.1 in /usr/local/miniconda3/envs/scikit-learn/lib/python3.11/site-packages (from -r requirements.txt (line 77)) (0.14.1)\n",
      "Requirement already satisfied: overrides==7.4.0 in /usr/local/miniconda3/envs/scikit-learn/lib/python3.11/site-packages (from -r requirements.txt (line 78)) (7.4.0)\n",
      "Requirement already satisfied: packaging==23.2 in /usr/local/miniconda3/envs/scikit-learn/lib/python3.11/site-packages (from -r requirements.txt (line 79)) (23.2)\n",
      "Requirement already satisfied: pandas==2.0.0 in /usr/local/miniconda3/envs/scikit-learn/lib/python3.11/site-packages (from -r requirements.txt (line 80)) (2.0.0)\n",
      "Requirement already satisfied: pandocfilters==1.5.0 in /usr/local/miniconda3/envs/scikit-learn/lib/python3.11/site-packages (from -r requirements.txt (line 81)) (1.5.0)\n",
      "Requirement already satisfied: parso==0.8.3 in /usr/local/miniconda3/envs/scikit-learn/lib/python3.11/site-packages (from -r requirements.txt (line 82)) (0.8.3)\n",
      "Requirement already satisfied: patsy==0.5.3 in /usr/local/miniconda3/envs/scikit-learn/lib/python3.11/site-packages (from -r requirements.txt (line 83)) (0.5.3)\n",
      "Requirement already satisfied: pexpect==4.8.0 in /usr/local/miniconda3/envs/scikit-learn/lib/python3.11/site-packages (from -r requirements.txt (line 84)) (4.8.0)\n",
      "Requirement already satisfied: Pillow==10.1.0 in /usr/local/miniconda3/envs/scikit-learn/lib/python3.11/site-packages (from -r requirements.txt (line 85)) (10.1.0)\n",
      "Requirement already satisfied: platformdirs==3.11.0 in /usr/local/miniconda3/envs/scikit-learn/lib/python3.11/site-packages (from -r requirements.txt (line 86)) (3.11.0)\n",
      "Requirement already satisfied: prometheus-client==0.18.0 in /usr/local/miniconda3/envs/scikit-learn/lib/python3.11/site-packages (from -r requirements.txt (line 87)) (0.18.0)\n",
      "Requirement already satisfied: prompt-toolkit==3.0.39 in /usr/local/miniconda3/envs/scikit-learn/lib/python3.11/site-packages (from -r requirements.txt (line 88)) (3.0.39)\n",
      "Requirement already satisfied: protobuf==4.25.3 in /usr/local/miniconda3/envs/scikit-learn/lib/python3.11/site-packages (from -r requirements.txt (line 89)) (4.25.3)\n",
      "Requirement already satisfied: psutil==5.9.6 in /usr/local/miniconda3/envs/scikit-learn/lib/python3.11/site-packages (from -r requirements.txt (line 90)) (5.9.6)\n",
      "Requirement already satisfied: psycopg2==2.9.9 in /usr/local/miniconda3/envs/scikit-learn/lib/python3.11/site-packages (from -r requirements.txt (line 91)) (2.9.9)\n",
      "Requirement already satisfied: ptyprocess==0.7.0 in /usr/local/miniconda3/envs/scikit-learn/lib/python3.11/site-packages (from -r requirements.txt (line 92)) (0.7.0)\n",
      "Requirement already satisfied: pure-eval==0.2.2 in /usr/local/miniconda3/envs/scikit-learn/lib/python3.11/site-packages (from -r requirements.txt (line 93)) (0.2.2)\n",
      "Requirement already satisfied: pyarrow==14.0.0 in /usr/local/miniconda3/envs/scikit-learn/lib/python3.11/site-packages (from -r requirements.txt (line 94)) (14.0.0)\n",
      "Requirement already satisfied: pycparser==2.21 in /usr/local/miniconda3/envs/scikit-learn/lib/python3.11/site-packages (from -r requirements.txt (line 95)) (2.21)\n",
      "Requirement already satisfied: pydeck==0.9.1 in /usr/local/miniconda3/envs/scikit-learn/lib/python3.11/site-packages (from -r requirements.txt (line 96)) (0.9.1)\n",
      "Requirement already satisfied: pydotplus==2.0.2 in /usr/local/miniconda3/envs/scikit-learn/lib/python3.11/site-packages (from -r requirements.txt (line 97)) (2.0.2)\n",
      "Requirement already satisfied: Pygments==2.16.1 in /usr/local/miniconda3/envs/scikit-learn/lib/python3.11/site-packages (from -r requirements.txt (line 98)) (2.16.1)\n",
      "Requirement already satisfied: pymonetdb==1.8.1 in /usr/local/miniconda3/envs/scikit-learn/lib/python3.11/site-packages (from -r requirements.txt (line 99)) (1.8.1)\n",
      "Requirement already satisfied: pyparsing==3.1.1 in /usr/local/miniconda3/envs/scikit-learn/lib/python3.11/site-packages (from -r requirements.txt (line 100)) (3.1.1)\n",
      "Requirement already satisfied: python-dateutil==2.8.2 in /usr/local/miniconda3/envs/scikit-learn/lib/python3.11/site-packages (from -r requirements.txt (line 101)) (2.8.2)\n",
      "Requirement already satisfied: python-json-logger==2.0.7 in /usr/local/miniconda3/envs/scikit-learn/lib/python3.11/site-packages (from -r requirements.txt (line 102)) (2.0.7)\n",
      "Requirement already satisfied: pytz==2023.3.post1 in /usr/local/miniconda3/envs/scikit-learn/lib/python3.11/site-packages (from -r requirements.txt (line 103)) (2023.3.post1)\n",
      "Requirement already satisfied: PyYAML==6.0.1 in /usr/local/miniconda3/envs/scikit-learn/lib/python3.11/site-packages (from -r requirements.txt (line 104)) (6.0.1)\n",
      "Requirement already satisfied: pyzmq==25.1.1 in /usr/local/miniconda3/envs/scikit-learn/lib/python3.11/site-packages (from -r requirements.txt (line 105)) (25.1.1)\n",
      "Requirement already satisfied: qtconsole==5.4.4 in /usr/local/miniconda3/envs/scikit-learn/lib/python3.11/site-packages (from -r requirements.txt (line 106)) (5.4.4)\n",
      "Requirement already satisfied: QtPy==2.4.1 in /usr/local/miniconda3/envs/scikit-learn/lib/python3.11/site-packages (from -r requirements.txt (line 107)) (2.4.1)\n",
      "Requirement already satisfied: referencing==0.30.2 in /usr/local/miniconda3/envs/scikit-learn/lib/python3.11/site-packages (from -r requirements.txt (line 108)) (0.30.2)\n",
      "Requirement already satisfied: requests==2.31.0 in /usr/local/miniconda3/envs/scikit-learn/lib/python3.11/site-packages (from -r requirements.txt (line 109)) (2.31.0)\n",
      "Requirement already satisfied: rfc3339-validator==0.1.4 in /usr/local/miniconda3/envs/scikit-learn/lib/python3.11/site-packages (from -r requirements.txt (line 110)) (0.1.4)\n",
      "Requirement already satisfied: rfc3986-validator==0.1.1 in /usr/local/miniconda3/envs/scikit-learn/lib/python3.11/site-packages (from -r requirements.txt (line 111)) (0.1.1)\n",
      "Requirement already satisfied: rich==13.7.1 in /usr/local/miniconda3/envs/scikit-learn/lib/python3.11/site-packages (from -r requirements.txt (line 112)) (13.7.1)\n",
      "Requirement already satisfied: rpds-py==0.10.6 in /usr/local/miniconda3/envs/scikit-learn/lib/python3.11/site-packages (from -r requirements.txt (line 113)) (0.10.6)\n",
      "Requirement already satisfied: scikit-learn==1.3.2 in /usr/local/miniconda3/envs/scikit-learn/lib/python3.11/site-packages (from -r requirements.txt (line 114)) (1.3.2)\n",
      "Requirement already satisfied: scipy==1.11.3 in /usr/local/miniconda3/envs/scikit-learn/lib/python3.11/site-packages (from -r requirements.txt (line 115)) (1.11.3)\n",
      "Requirement already satisfied: Send2Trash==1.8.2 in /usr/local/miniconda3/envs/scikit-learn/lib/python3.11/site-packages (from -r requirements.txt (line 116)) (1.8.2)\n",
      "Requirement already satisfied: six==1.16.0 in /usr/local/miniconda3/envs/scikit-learn/lib/python3.11/site-packages (from -r requirements.txt (line 117)) (1.16.0)\n",
      "Requirement already satisfied: sklearn-pandas==2.2.0 in /usr/local/miniconda3/envs/scikit-learn/lib/python3.11/site-packages (from -r requirements.txt (line 118)) (2.2.0)\n",
      "Requirement already satisfied: smmap==5.0.1 in /usr/local/miniconda3/envs/scikit-learn/lib/python3.11/site-packages (from -r requirements.txt (line 119)) (5.0.1)\n",
      "Requirement already satisfied: sniffio==1.3.0 in /usr/local/miniconda3/envs/scikit-learn/lib/python3.11/site-packages (from -r requirements.txt (line 120)) (1.3.0)\n",
      "Requirement already satisfied: soupsieve==2.5 in /usr/local/miniconda3/envs/scikit-learn/lib/python3.11/site-packages (from -r requirements.txt (line 121)) (2.5)\n",
      "Requirement already satisfied: stack-data==0.6.3 in /usr/local/miniconda3/envs/scikit-learn/lib/python3.11/site-packages (from -r requirements.txt (line 122)) (0.6.3)\n",
      "Requirement already satisfied: statsmodels==0.14.0 in /usr/local/miniconda3/envs/scikit-learn/lib/python3.11/site-packages (from -r requirements.txt (line 123)) (0.14.0)\n",
      "Requirement already satisfied: streamlit==1.31.1 in /usr/local/miniconda3/envs/scikit-learn/lib/python3.11/site-packages (from -r requirements.txt (line 124)) (1.31.1)\n",
      "Requirement already satisfied: sympy==1.12.1 in /usr/local/miniconda3/envs/scikit-learn/lib/python3.11/site-packages (from -r requirements.txt (line 125)) (1.12.1)\n",
      "Requirement already satisfied: tenacity==8.5.0 in /usr/local/miniconda3/envs/scikit-learn/lib/python3.11/site-packages (from -r requirements.txt (line 126)) (8.5.0)\n",
      "Requirement already satisfied: terminado==0.17.1 in /usr/local/miniconda3/envs/scikit-learn/lib/python3.11/site-packages (from -r requirements.txt (line 127)) (0.17.1)\n",
      "Requirement already satisfied: threadpoolctl==3.2.0 in /usr/local/miniconda3/envs/scikit-learn/lib/python3.11/site-packages (from -r requirements.txt (line 128)) (3.2.0)\n",
      "Requirement already satisfied: tinycss2==1.2.1 in /usr/local/miniconda3/envs/scikit-learn/lib/python3.11/site-packages (from -r requirements.txt (line 129)) (1.2.1)\n",
      "Requirement already satisfied: toml==0.10.2 in /usr/local/miniconda3/envs/scikit-learn/lib/python3.11/site-packages (from -r requirements.txt (line 130)) (0.10.2)\n",
      "Requirement already satisfied: toolz==0.12.1 in /usr/local/miniconda3/envs/scikit-learn/lib/python3.11/site-packages (from -r requirements.txt (line 131)) (0.12.1)\n",
      "Requirement already satisfied: tornado==6.3.3 in /usr/local/miniconda3/envs/scikit-learn/lib/python3.11/site-packages (from -r requirements.txt (line 132)) (6.3.3)\n",
      "Requirement already satisfied: traitlets==5.13.0 in /usr/local/miniconda3/envs/scikit-learn/lib/python3.11/site-packages (from -r requirements.txt (line 133)) (5.13.0)\n",
      "Requirement already satisfied: types-python-dateutil==2.8.19.14 in /usr/local/miniconda3/envs/scikit-learn/lib/python3.11/site-packages (from -r requirements.txt (line 134)) (2.8.19.14)\n",
      "Requirement already satisfied: typing_extensions==4.12.2 in /usr/local/miniconda3/envs/scikit-learn/lib/python3.11/site-packages (from -r requirements.txt (line 135)) (4.12.2)\n",
      "Requirement already satisfied: tzdata==2023.3 in /usr/local/miniconda3/envs/scikit-learn/lib/python3.11/site-packages (from -r requirements.txt (line 136)) (2023.3)\n",
      "Requirement already satisfied: tzlocal==5.2 in /usr/local/miniconda3/envs/scikit-learn/lib/python3.11/site-packages (from -r requirements.txt (line 137)) (5.2)\n",
      "Requirement already satisfied: uri-template==1.3.0 in /usr/local/miniconda3/envs/scikit-learn/lib/python3.11/site-packages (from -r requirements.txt (line 138)) (1.3.0)\n",
      "Requirement already satisfied: urllib3==2.0.7 in /usr/local/miniconda3/envs/scikit-learn/lib/python3.11/site-packages (from -r requirements.txt (line 139)) (2.0.7)\n",
      "Requirement already satisfied: validators==0.33.0 in /usr/local/miniconda3/envs/scikit-learn/lib/python3.11/site-packages (from -r requirements.txt (line 140)) (0.33.0)\n",
      "Requirement already satisfied: watchdog==4.0.1 in /usr/local/miniconda3/envs/scikit-learn/lib/python3.11/site-packages (from -r requirements.txt (line 141)) (4.0.1)\n",
      "Requirement already satisfied: wcwidth==0.2.9 in /usr/local/miniconda3/envs/scikit-learn/lib/python3.11/site-packages (from -r requirements.txt (line 142)) (0.2.9)\n",
      "Requirement already satisfied: webcolors==1.13 in /usr/local/miniconda3/envs/scikit-learn/lib/python3.11/site-packages (from -r requirements.txt (line 143)) (1.13)\n",
      "Requirement already satisfied: webencodings==0.5.1 in /usr/local/miniconda3/envs/scikit-learn/lib/python3.11/site-packages (from -r requirements.txt (line 144)) (0.5.1)\n",
      "Requirement already satisfied: websocket-client==1.6.4 in /usr/local/miniconda3/envs/scikit-learn/lib/python3.11/site-packages (from -r requirements.txt (line 145)) (1.6.4)\n",
      "Requirement already satisfied: widgetsnbextension==4.0.9 in /usr/local/miniconda3/envs/scikit-learn/lib/python3.11/site-packages (from -r requirements.txt (line 146)) (4.0.9)\n",
      "Requirement already satisfied: xmltodict==0.13.0 in /usr/local/miniconda3/envs/scikit-learn/lib/python3.11/site-packages (from -r requirements.txt (line 147)) (0.13.0)\n",
      "Requirement already satisfied: zipp==3.19.2 in /usr/local/miniconda3/envs/scikit-learn/lib/python3.11/site-packages (from -r requirements.txt (line 148)) (3.19.2)\n",
      "Requirement already satisfied: zstandard==0.23.0 in /usr/local/miniconda3/envs/scikit-learn/lib/python3.11/site-packages (from -r requirements.txt (line 149)) (0.23.0)\n",
      "\u001b[33mWARNING: Running pip as the 'root' user can result in broken permissions and conflicting behaviour with the system package manager. It is recommended to use a virtual environment instead: https://pip.pypa.io/warnings/venv\u001b[0m\u001b[33m\n",
      "\u001b[0mNote: you may need to restart the kernel to use updated packages.\n"
     ]
    }
   ],
   "source": [
    "# Install dependencies\n",
    "%pip install -r requirements.txt\n",
    "\n",
    "# Add project root path to Python path\n",
    "import os\n",
    "os.environ['PYTHONPATH'] = os.getcwd()"
   ]
  },
  {
   "cell_type": "markdown",
   "metadata": {},
   "source": [
    "#### Build a pipeline using craftsman `training_helper` tool and train the pipeline"
   ]
  },
  {
   "cell_type": "markdown",
   "metadata": {},
   "source": [
    "Import moudles"
   ]
  },
  {
   "cell_type": "code",
   "execution_count": 10,
   "metadata": {},
   "outputs": [],
   "source": [
    "from sklearn.tree import DecisionTreeRegressor\n",
    "from sklearn.metrics import mean_squared_error\n",
    "from sklearn.preprocessing import MinMaxScaler\n",
    "from sklearn.pipeline import Pipeline\n",
    "\n",
    "import pandas as pd\n",
    "from craftsman.utility.loader import save_model\n",
    "from craftsman.base.defs import OperatorName, ModelName\n",
    "import craftsman.base.defs as defs\n",
    "from craftsman.utility.training_helper import *"
   ]
  },
  {
   "cell_type": "markdown",
   "metadata": {},
   "source": [
    "Define model path and load data"
   ]
  },
  {
   "cell_type": "code",
   "execution_count": 11,
   "metadata": {},
   "outputs": [],
   "source": [
    "train_data_path = \"./dataset/Car_price/train.csv\"\n",
    "pipeline_save_path = \"./car_dt6.joblib\"\n",
    "test_data_path = \"./dataset/Car_price/test.csv\"\n",
    "\n",
    "# load dataset\n",
    "data = pd.read_csv(train_data_path)\n",
    "y = data[\"Price\"]\n",
    "X = data.drop([\"Price\"], axis=1)"
   ]
  },
  {
   "cell_type": "markdown",
   "metadata": {},
   "source": [
    "Define features to fit ML Model"
   ]
  },
  {
   "cell_type": "code",
   "execution_count": 12,
   "metadata": {},
   "outputs": [],
   "source": [
    "columns = X.columns.tolist()\n",
    "\n",
    "ordinal_cols = ['Owner_Type']\n",
    "binary_cols = ['Location','Fuel_Type','Transmission','Name']\n",
    "kbins_cols = ['Year','Kilometers_Driven','Engine','Power','Mileage','Seats']\n",
    "count_cols = ['Brand']\n",
    "\n",
    "all_cols =  ordinal_cols + binary_cols + kbins_cols + count_cols\n",
    "X = X[all_cols]"
   ]
  },
  {
   "cell_type": "markdown",
   "metadata": {},
   "source": [
    "Define pipline, the following are some important points:\n",
    "1. Replace scikit-learn's `ColumnTransformer` with `CraftsmanColumnTransformer`. The `CraftsmanColumnTransformer` has an additional input parameter `input_data`, which is the training data transformed by the previous `CraftsmanColumnTransformer`.\n",
    "2. Preprocessing operators are partly wrapped by Craftsman, including `CraftsmanSimpleImputer`, `CraftsmanLabelEncoder`, `CraftsmanTargetEncoder`, `CraftsmanCatBoostEncoder`, `CraftsmanKBinsDiscretizer`, `CraftsmanOrdinalEncoder`, `CraftsmanCountEncoder`, `CraftsmanLeaveOneOutEncoder`, `CraftsmanOneHotEncoder`, `CraftsmanBinaryEncoder`, etc.; while others directly use scikit-learn preprocessing operators: `StandardScaler`, `MinMaxScaler`, `RobustScaler`, etc. (Refer to /craftsman/utility/training_helper.py for details).\n",
    "3. Models are used directly from scikit-learn, supporting `DecisionTreeClassifier`, `DecisionTreeRegressor`, `RandomForestClassifier`, `RandomForestRegressor`, `LinearRegressor`, `LogisticRegressor`.\n",
    "4. The definition logic of `CraftsmanColumnTransformer` is shown in the figure below, where each `CraftsmanColumnTransformer` is considered as a step.\n",
    "5. Data transformation needs to be performed between each step, i.e., calling the `fit_transform()` function of the previous step."
   ]
  },
  {
   "cell_type": "markdown",
   "metadata": {},
   "source": [
    "![craftsman_pipeline_define.jpg](craftsman_pipeline_define.jpg \"/craftsman_pipeline_define.jpg\")"
   ]
  },
  {
   "cell_type": "code",
   "execution_count": 13,
   "metadata": {},
   "outputs": [
    {
     "name": "stderr",
     "output_type": "stream",
     "text": [
      "/usr/local/miniconda3/envs/scikit-learn/lib/python3.11/site-packages/sklearn/preprocessing/_discretization.py:322: UserWarning: Bins whose width are too small (i.e., <= 1e-8) in feature 0 are removed. Consider decreasing the number of bins.\n",
      "  warnings.warn(\n",
      "/usr/local/miniconda3/envs/scikit-learn/lib/python3.11/site-packages/sklearn/preprocessing/_discretization.py:322: UserWarning: Bins whose width are too small (i.e., <= 1e-8) in feature 2 are removed. Consider decreasing the number of bins.\n",
      "  warnings.warn(\n",
      "/usr/local/miniconda3/envs/scikit-learn/lib/python3.11/site-packages/sklearn/preprocessing/_discretization.py:322: UserWarning: Bins whose width are too small (i.e., <= 1e-8) in feature 5 are removed. Consider decreasing the number of bins.\n",
      "  warnings.warn(\n"
     ]
    }
   ],
   "source": [
    "# define preprocessors\n",
    "type_categories = [\"First\",\"Second\",\"Third\",\"Fourth & Above\"]\n",
    "ordinal_encoder = CraftsmanOrdinalEncoder(categories=[type_categories])\n",
    "kbins = CraftsmanKBinsDiscretizer(encode=\"ordinal\",n_bins=15)\n",
    "binary_encoder = CraftsmanBinaryEncoder()\n",
    "imputer = CraftsmanSimpleImputer(strategy=\"most_frequent\")\n",
    "count_encoder = CraftsmanCountEncoder()\n",
    "minmax_scaler = MinMaxScaler()\n",
    "\n",
    "# define model\n",
    "dt = DecisionTreeRegressor(max_depth=6,random_state=24)\n",
    "\n",
    "# define steps\n",
    "X_copy = X.copy()\n",
    "\n",
    "X_copy = imputer.fit_transform(X_copy)\n",
    "\n",
    "transformer1 = CraftsmanColumnTransformer(\n",
    "    remainder=\"passthrough\",\n",
    "    transformers=[\n",
    "        (\n",
    "            OperatorName.ORDINALENCODER.value,\n",
    "            ordinal_encoder,\n",
    "            ordinal_cols,\n",
    "        ),\n",
    "        (\n",
    "            OperatorName.BINARYENCODER.value,\n",
    "            binary_encoder,\n",
    "            binary_cols,\n",
    "        ),\n",
    "        (\n",
    "            OperatorName.KBINSDISCRETIZER.value,\n",
    "            kbins,\n",
    "            kbins_cols,\n",
    "        ),\n",
    "          (\n",
    "            OperatorName.COUNTENCODER.value,\n",
    "            count_encoder,\n",
    "            count_cols,\n",
    "        ),\n",
    "    ],\n",
    "    input_data=X_copy\n",
    ")\n",
    "\n",
    "X_copy = transformer1.fit_transform(X_copy,y)\n",
    "\n",
    "transformer2 = CraftsmanColumnTransformer(\n",
    "    remainder=\"passthrough\",\n",
    "    transformers=[\n",
    "        (\n",
    "            OperatorName.MINMAXSCALER.value,\n",
    "            minmax_scaler,\n",
    "            ['Year','Kilometers_Driven','Engine'],\n",
    "        )\n",
    "    ],\n",
    "    input_data=X_copy\n",
    ")\n",
    "\n",
    "# compose pipline\n",
    "pipeline = Pipeline(\n",
    "    steps=[\n",
    "        ('Imputer', imputer),\n",
    "        (\"step2\", transformer1),\n",
    "        (\"step3\", transformer2),        \n",
    "        (ModelName.DECISIONTREEREGRESSOR.value, dt)\n",
    "    ]\n",
    ")"
   ]
  },
  {
   "cell_type": "markdown",
   "metadata": {},
   "source": [
    "Add some config informations to pipelines"
   ]
  },
  {
   "cell_type": "code",
   "execution_count": 14,
   "metadata": {},
   "outputs": [],
   "source": [
    "# which database dialect\n",
    "pipeline.data_rows = len(X)\n",
    "# training dataset amount\n",
    "defs.DBMS = 'duckdb'"
   ]
  },
  {
   "cell_type": "markdown",
   "metadata": {},
   "source": [
    "Fit and save the trained pipeline to local directory as a joblib file"
   ]
  },
  {
   "cell_type": "code",
   "execution_count": 15,
   "metadata": {},
   "outputs": [
    {
     "name": "stderr",
     "output_type": "stream",
     "text": [
      "/usr/local/miniconda3/envs/scikit-learn/lib/python3.11/site-packages/sklearn/preprocessing/_discretization.py:322: UserWarning: Bins whose width are too small (i.e., <= 1e-8) in feature 0 are removed. Consider decreasing the number of bins.\n",
      "  warnings.warn(\n",
      "/usr/local/miniconda3/envs/scikit-learn/lib/python3.11/site-packages/sklearn/preprocessing/_discretization.py:322: UserWarning: Bins whose width are too small (i.e., <= 1e-8) in feature 2 are removed. Consider decreasing the number of bins.\n",
      "  warnings.warn(\n",
      "/usr/local/miniconda3/envs/scikit-learn/lib/python3.11/site-packages/sklearn/preprocessing/_discretization.py:322: UserWarning: Bins whose width are too small (i.e., <= 1e-8) in feature 5 are removed. Consider decreasing the number of bins.\n",
      "  warnings.warn(\n"
     ]
    },
    {
     "name": "stdout",
     "output_type": "stream",
     "text": [
      "Pipeline has been saved at: ./car_dt6.joblib\n",
      "Model's RMSE: 19.864693159722353\n"
     ]
    }
   ],
   "source": [
    "# train model\n",
    "pipeline.fit(X, y)\n",
    "\n",
    "# save model to the file\n",
    "save_model(pipeline, pipeline_save_path)\n",
    "print(f'Pipeline has been saved at: {pipeline_save_path}')\n",
    "\n",
    "# test model\n",
    "data_test = pd.read_csv(test_data_path)\n",
    "y_test = data_test[\"Price\"]\n",
    "X_test = data_test.drop(\"Price\", axis=1)\n",
    "X_test = X_test[all_cols]\n",
    "\n",
    "# evaluate the test result\n",
    "y_predict = pipeline.predict(X_test)\n",
    "\n",
    "print(f\"Model's RMSE: {mean_squared_error(y_predict,(y_test))}\")"
   ]
  },
  {
   "cell_type": "markdown",
   "metadata": {},
   "source": [
    "### Generate pure SQL query for the trained pipeline using craftsman `transform_manager` tool"
   ]
  },
  {
   "cell_type": "markdown",
   "metadata": {},
   "source": [
    "Parameters for manager.generate_query:\n",
    "- `pre_sql`: other SQL statements, like 'EXPLAIN ANALYZE'\n",
    "- `group`: the algorithm of the graph selection, 'enum' (i.e., Enumeration-based algorithm) / 'prune' (i.e., Greedy-based algorithm)\n",
    "- `max_process_num`: the parallelism of the Enumeration-based algorithm\n",
    "- `pipeline_save_path`: trained pipeline file path"
   ]
  },
  {
   "cell_type": "code",
   "execution_count": 8,
   "metadata": {},
   "outputs": [
    {
     "name": "stdout",
     "output_type": "stream",
     "text": [
      "prune plan num: 24\n",
      "prune sql generate time: 0.0011 s\n",
      "total compile time: 0.68s\n"
     ]
    }
   ],
   "source": [
    "import time\n",
    "from craftsman.transformer_manager import TransformerManager\n",
    "import os\n",
    "\n",
    "manager = TransformerManager()\n",
    "table_name = \"car_price\"\n",
    "dbms = 'duckdb'\n",
    "pre_sql = \"EXPLAIN ANALYZE \"\n",
    "group = 'prune'\n",
    "\n",
    "t1 = time.time()\n",
    "query = manager.generate_query(\n",
    "    pipeline_save_path,\n",
    "    table_name,\n",
    "    dbms,\n",
    "    pre_sql=pre_sql,\n",
    "    group=group,\n",
    "    cost_model='craftsman'\n",
    ")\n",
    "t2 = time.time()\n",
    "print(f'total compile time: {(t2-t1):.2f}s')\n"
   ]
  },
  {
   "cell_type": "markdown",
   "metadata": {},
   "source": [
    "Save the generated sql file"
   ]
  },
  {
   "cell_type": "code",
   "execution_count": 9,
   "metadata": {},
   "outputs": [
    {
     "name": "stdout",
     "output_type": "stream",
     "text": [
      "Generate SQL file have been saved at: ./tutorial_prune.sql\n"
     ]
    }
   ],
   "source": [
    "generated_file_path = f\"./tutorial_{group}.sql\"\n",
    "with open(generated_file_path, \"w\") as sql_file:\n",
    "    sql_file.write(query)\n",
    "print(f'Generate SQL file have been saved at: {generated_file_path}')"
   ]
  }
 ],
 "metadata": {
  "kernelspec": {
   "display_name": "scikit-learn",
   "language": "python",
   "name": "python3"
  },
  "language_info": {
   "codemirror_mode": {
    "name": "ipython",
    "version": 3
   },
   "file_extension": ".py",
   "mimetype": "text/x-python",
   "name": "python",
   "nbconvert_exporter": "python",
   "pygments_lexer": "ipython3",
   "version": "3.11.0"
  }
 },
 "nbformat": 4,
 "nbformat_minor": 2
}
