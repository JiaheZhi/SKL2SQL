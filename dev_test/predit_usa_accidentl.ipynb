{
 "cells": [
  {
   "cell_type": "code",
   "execution_count": 3,
   "metadata": {},
   "outputs": [],
   "source": [
    "import pandas as pd\n",
    "import category_encoders as ce\n",
    "from joblib import load"
   ]
  },
  {
   "cell_type": "code",
   "execution_count": 4,
   "metadata": {},
   "outputs": [],
   "source": [
    "# load dataset\n",
    "data = pd.read_csv(\"/root/volume/SKL2SQL/dataset/US_Accidents_March23_train.csv\")\n",
    "X = data.drop('Severity', axis=1)\n",
    "y = data['Severity']\n",
    "binary_encoder_cols = ['Airport_Code']\n",
    "frequency_encoder_cols = ['Zipcode']\n",
    "onehot_encoder_cols = ['Source', 'Timezone', 'Country']\n",
    "numerical_cols = ['Temperature(F)', 'Wind_Chill(F)', 'Humidity(%)', 'Pressure(in)', 'Visibility(mi)']\n",
    "udf_cols = ['Description', 'Start_Time', 'Weather_Condition']\n",
    "X = X[binary_encoder_cols + frequency_encoder_cols + onehot_encoder_cols + numerical_cols + udf_cols]"
   ]
  },
  {
   "cell_type": "code",
   "execution_count": 5,
   "metadata": {},
   "outputs": [],
   "source": [
    "# clean data\n",
    "for col in X.columns:\n",
    "    if len(X[col].isna().unique()) > 1:\n",
    "        # X[col] = X[col].fillna(0)\n",
    "        most_common_value = X[col].value_counts().idxmax()  # 获取每列中出现最多的值\n",
    "        X[col].fillna(most_common_value, inplace=True)  # 使用最常见的值填充 NaN\n",
    "\n",
    "\n",
    "# preprocess\n",
    "binary_encoder = ce.BinaryEncoder(cols=binary_encoder_cols)\n",
    "X = binary_encoder.fit_transform(X)\n",
    "counter_encoder = ce.CountEncoder(cols=frequency_encoder_cols)\n",
    "X = counter_encoder.fit_transform(X)\n",
    "X['Description'] = X['Description'].apply(lambda row: len(str(row).split(' ')))\n",
    "X['Start_Time'] = X['Start_Time'].apply(lambda time: int(str(time)[0:4])*12 + int(str(time)[5:7]))\n",
    "def f(weather: str):\n",
    "    bad_conditions = ['rain', 'snow', 'fog', 'wind', 'thunder', 'storm', 'drizzle', 'sand', 'whirlwind']\n",
    "    weather = weather.lower()\n",
    "    bad_value = 0\n",
    "    for bad_cond in bad_conditions:\n",
    "        if bad_cond in weather:\n",
    "            bad_value += 1\n",
    "    return bad_value\n",
    "X['Weather_Condition'] = X['Weather_Condition'].apply(lambda weather: f(str(weather)))"
   ]
  },
  {
   "cell_type": "code",
   "execution_count": 6,
   "metadata": {},
   "outputs": [],
   "source": [
    "# load model\n",
    "pipline = load('/root/volume/SKL2SQL/trained_model/usa_accident_rf_pipeline.joblib')\n",
    "y_predit = pipline.predict(X)"
   ]
  },
  {
   "cell_type": "code",
   "execution_count": 7,
   "metadata": {},
   "outputs": [
    {
     "data": {
      "text/plain": [
       "2318518"
      ]
     },
     "execution_count": 7,
     "metadata": {},
     "output_type": "execute_result"
    }
   ],
   "source": [
    "len(y_predit)"
   ]
  },
  {
   "cell_type": "code",
   "execution_count": 8,
   "metadata": {},
   "outputs": [
    {
     "data": {
      "text/plain": [
       "array([3, 2, 3, ..., 2, 2, 2])"
      ]
     },
     "execution_count": 8,
     "metadata": {},
     "output_type": "execute_result"
    }
   ],
   "source": [
    "y_predit"
   ]
  }
 ],
 "metadata": {
  "kernelspec": {
   "display_name": "Python 3",
   "language": "python",
   "name": "python3"
  },
  "language_info": {
   "codemirror_mode": {
    "name": "ipython",
    "version": 3
   },
   "file_extension": ".py",
   "mimetype": "text/x-python",
   "name": "python",
   "nbconvert_exporter": "python",
   "pygments_lexer": "ipython3",
   "version": "3.7.12"
  }
 },
 "nbformat": 4,
 "nbformat_minor": 2
}
