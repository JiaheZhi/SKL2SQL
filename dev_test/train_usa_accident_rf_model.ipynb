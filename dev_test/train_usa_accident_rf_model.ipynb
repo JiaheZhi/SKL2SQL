{
 "cells": [
  {
   "cell_type": "code",
   "execution_count": 1,
   "metadata": {},
   "outputs": [],
   "source": [
    "import pandas as pd\n",
    "from sklearn.compose import ColumnTransformer\n",
    "from sklearn.ensemble import RandomForestClassifier\n",
    "from sklearn.preprocessing import StandardScaler, OneHotEncoder\n",
    "from sklearn.pipeline import Pipeline\n",
    "import category_encoders as ce\n",
    "from sklearn.model_selection import train_test_split\n",
    "from sklearn.metrics import accuracy_score\n",
    "from joblib import dump"
   ]
  },
  {
   "cell_type": "code",
   "execution_count": 2,
   "metadata": {},
   "outputs": [],
   "source": [
    "# load dataset\n",
    "data = pd.read_csv(\"/root/volume/SKL2SQL/dataset/US_Accidents_March23_train.csv\")\n",
    "X = data.drop('Severity', axis=1)\n",
    "y = data['Severity']\n",
    "binary_encoder_cols = ['Airport_Code']\n",
    "frequency_encoder_cols = ['Zipcode']\n",
    "onehot_encoder_cols = ['Source', 'Timezone', 'Country']\n",
    "numerical_cols = ['Temperature(F)', 'Wind_Chill(F)', 'Humidity(%)', 'Pressure(in)', 'Visibility(mi)']\n",
    "udf_cols = ['Description', 'Start_Time', 'Weather_Condition']\n",
    "X = X[binary_encoder_cols + frequency_encoder_cols + onehot_encoder_cols + numerical_cols + udf_cols]"
   ]
  },
  {
   "cell_type": "code",
   "execution_count": 3,
   "metadata": {},
   "outputs": [],
   "source": [
    "X = X[0:10000]\n",
    "y = y[0:10000]"
   ]
  },
  {
   "cell_type": "code",
   "execution_count": 4,
   "metadata": {},
   "outputs": [],
   "source": [
    "# clean data\n",
    "for col in X.columns:\n",
    "    if len(X[col].isna().unique()) > 1:\n",
    "        # X[col] = X[col].fillna(0)\n",
    "        most_common_value = X[col].value_counts().idxmax()  # 获取每列中出现最多的值\n",
    "        X[col].fillna(most_common_value, inplace=True)  # 使用最常见的值填充 NaN\n",
    "\n",
    "for col in X.columns:\n",
    "    if len(X[col].isna().unique()) > 1:\n",
    "        print(col)"
   ]
  },
  {
   "cell_type": "code",
   "execution_count": 5,
   "metadata": {},
   "outputs": [
    {
     "name": "stdout",
     "output_type": "stream",
     "text": [
      "         Zipcode\n",
      "0          75227\n",
      "1          91607\n",
      "2          45215\n",
      "3          29169\n",
      "4     94580-2454\n",
      "...          ...\n",
      "9995  85749-9097\n",
      "9996  33174-1630\n",
      "9997  91950-7833\n",
      "9998       92705\n",
      "9999       60517\n",
      "\n",
      "[10000 rows x 1 columns]\n",
      "      Zipcode\n",
      "0           3\n",
      "1           3\n",
      "2           3\n",
      "3           1\n",
      "4           1\n",
      "...       ...\n",
      "9995        1\n",
      "9996        1\n",
      "9997        1\n",
      "9998        2\n",
      "9999        3\n",
      "\n",
      "[10000 rows x 1 columns]\n"
     ]
    }
   ],
   "source": [
    "# preprocess\n",
    "binary_encoder = ce.BinaryEncoder(cols=binary_encoder_cols)\n",
    "X = binary_encoder.fit_transform(X)\n",
    "counter_encoder = ce.CountEncoder(cols=frequency_encoder_cols)\n",
    "print(X[frequency_encoder_cols])\n",
    "X = counter_encoder.fit_transform(X)\n",
    "print(X[frequency_encoder_cols])"
   ]
  },
  {
   "cell_type": "code",
   "execution_count": 6,
   "metadata": {},
   "outputs": [
    {
     "name": "stdout",
     "output_type": "stream",
     "text": [
      "      Zipcode\n",
      "0      0.0003\n",
      "1      0.0003\n",
      "2      0.0003\n",
      "3      0.0001\n",
      "4      0.0001\n",
      "...       ...\n",
      "9995   0.0001\n",
      "9996   0.0001\n",
      "9997   0.0001\n",
      "9998   0.0002\n",
      "9999   0.0003\n",
      "\n",
      "[10000 rows x 1 columns]\n"
     ]
    }
   ],
   "source": [
    "X[frequency_encoder_cols] = X[frequency_encoder_cols] / len(X)\n",
    "print(X[frequency_encoder_cols])"
   ]
  },
  {
   "cell_type": "code",
   "execution_count": 7,
   "metadata": {},
   "outputs": [
    {
     "data": {
      "text/plain": [
       "Index(['Airport_Code_0', 'Airport_Code_1', 'Airport_Code_2', 'Airport_Code_3',\n",
       "       'Airport_Code_4', 'Airport_Code_5', 'Airport_Code_6', 'Airport_Code_7',\n",
       "       'Airport_Code_8', 'Airport_Code_9', 'Airport_Code_10', 'Zipcode',\n",
       "       'Source', 'Timezone', 'Country', 'Temperature(F)', 'Wind_Chill(F)',\n",
       "       'Humidity(%)', 'Pressure(in)', 'Visibility(mi)', 'Description',\n",
       "       'Start_Time', 'Weather_Condition'],\n",
       "      dtype='object')"
      ]
     },
     "execution_count": 7,
     "metadata": {},
     "output_type": "execute_result"
    }
   ],
   "source": [
    "X.columns"
   ]
  },
  {
   "cell_type": "code",
   "execution_count": 8,
   "metadata": {},
   "outputs": [
    {
     "data": {
      "text/plain": [
       "0       #4 lane blocked due to accident on I-30 Westbo...\n",
       "1       Slow traffic on Ventura Fwy W - US-101 N from ...\n",
       "2       Center lane blocked due to accident on I-75 So...\n",
       "3                 Accident on I-26 Eastbound at Exit 111.\n",
       "4                               At Bockman Rd - Accident.\n",
       "                              ...                        \n",
       "9995    Incident on N SOLDIER TR near E FORT LOWELL RD...\n",
       "9996    Stationary traffic on FL-985 from SW 105th Pl ...\n",
       "9997               At Plaza Bonita Center Way - Accident.\n",
       "9998                        At Seventeenth St - Accident.\n",
       "9999    Incident on I-355 SB near 71ST ST Left lane bl...\n",
       "Name: Description, Length: 10000, dtype: object"
      ]
     },
     "execution_count": 8,
     "metadata": {},
     "output_type": "execute_result"
    }
   ],
   "source": [
    "X['Description']"
   ]
  },
  {
   "cell_type": "code",
   "execution_count": 9,
   "metadata": {},
   "outputs": [],
   "source": [
    "X['Description'] = X['Description'].apply(lambda row: len(str(row).split(' ')))"
   ]
  },
  {
   "cell_type": "code",
   "execution_count": 10,
   "metadata": {},
   "outputs": [
    {
     "data": {
      "text/plain": [
       "0       14\n",
       "1       20\n",
       "2       12\n",
       "3        7\n",
       "4        5\n",
       "        ..\n",
       "9995    13\n",
       "9996    15\n",
       "9997     7\n",
       "9998     5\n",
       "9999    10\n",
       "Name: Description, Length: 10000, dtype: int64"
      ]
     },
     "execution_count": 10,
     "metadata": {},
     "output_type": "execute_result"
    }
   ],
   "source": [
    "X['Description']"
   ]
  },
  {
   "cell_type": "code",
   "execution_count": 11,
   "metadata": {},
   "outputs": [
    {
     "data": {
      "text/plain": [
       "0                 2020-09-08 20:23:48\n",
       "1                 2023-01-20 22:02:00\n",
       "2                 2021-12-20 14:36:18\n",
       "3                 2020-09-17 16:01:59\n",
       "4                 2019-10-16 15:59:00\n",
       "                    ...              \n",
       "9995              2022-08-18 18:27:41\n",
       "9996              2021-03-22 06:31:41\n",
       "9997              2020-01-27 15:24:00\n",
       "9998              2017-11-07 11:14:44\n",
       "9999    2022-07-29 22:57:49.000000000\n",
       "Name: Start_Time, Length: 10000, dtype: object"
      ]
     },
     "execution_count": 11,
     "metadata": {},
     "output_type": "execute_result"
    }
   ],
   "source": [
    "X['Start_Time']"
   ]
  },
  {
   "cell_type": "code",
   "execution_count": 12,
   "metadata": {},
   "outputs": [],
   "source": [
    "X['Start_Time'] = X['Start_Time'].apply(lambda time: int(str(time)[0:4])*12 + int(str(time)[5:7]))"
   ]
  },
  {
   "cell_type": "code",
   "execution_count": 13,
   "metadata": {},
   "outputs": [
    {
     "data": {
      "text/plain": [
       "0       24249\n",
       "1       24277\n",
       "2       24264\n",
       "3       24249\n",
       "4       24238\n",
       "        ...  \n",
       "9995    24272\n",
       "9996    24255\n",
       "9997    24241\n",
       "9998    24215\n",
       "9999    24271\n",
       "Name: Start_Time, Length: 10000, dtype: int64"
      ]
     },
     "execution_count": 13,
     "metadata": {},
     "output_type": "execute_result"
    }
   ],
   "source": [
    "X['Start_Time']"
   ]
  },
  {
   "cell_type": "code",
   "execution_count": 14,
   "metadata": {},
   "outputs": [
    {
     "data": {
      "text/plain": [
       "array(['Fair', 'Heavy Rain', 'Cloudy', 'Clear', 'Fog', 'Fair / Windy',\n",
       "       'Scattered Clouds', 'Mostly Cloudy', 'Partly Cloudy', 'Overcast',\n",
       "       'Light Snow', 'Light Rain', 'Heavy T-Storm', 'Thunder',\n",
       "       'Cloudy / Windy', 'Snow', 'Smoke', 'N/A Precipitation',\n",
       "       'Mostly Cloudy / Windy', 'Partly Cloudy / Windy', 'Haze',\n",
       "       'Light Thunderstorms and Rain', 'Rain', 'Light Freezing Drizzle',\n",
       "       'Light Rain with Thunder', 'Patches of Fog', 'Wintry Mix',\n",
       "       'Thunder in the Vicinity', 'Blowing Snow / Windy',\n",
       "       'Heavy Thunderstorms and Rain', 'Light Snow / Windy',\n",
       "       'Light Freezing Rain', 'Thunderstorms and Rain', 'Mist',\n",
       "       'Heavy Snow / Windy', 'T-Storm', 'Light Rain / Windy',\n",
       "       'Rain / Windy', 'Snow / Windy', 'Light Drizzle', 'Heavy Snow',\n",
       "       'Thunderstorm', 'Drizzle', 'Heavy Rain / Windy', 'Blowing Dust',\n",
       "       'Shallow Fog', 'Showers in the Vicinity', 'Fog / Windy',\n",
       "       'Light Drizzle / Windy', 'Haze / Windy', 'Freezing Drizzle',\n",
       "       'Heavy T-Storm / Windy', 'Blowing Snow', 'Wintry Mix / Windy',\n",
       "       'Sand / Dust Whirlwinds'], dtype=object)"
      ]
     },
     "execution_count": 14,
     "metadata": {},
     "output_type": "execute_result"
    }
   ],
   "source": [
    "X['Weather_Condition'].unique()"
   ]
  },
  {
   "cell_type": "code",
   "execution_count": 15,
   "metadata": {},
   "outputs": [],
   "source": [
    "def f(weather: str):\n",
    "    bad_conditions = ['rain', 'snow', 'fog', 'wind', 'thunder', 'storm', 'drizzle', 'sand', 'whirlwind']\n",
    "    weather = weather.lower()\n",
    "    bad_value = 0\n",
    "    for bad_cond in bad_conditions:\n",
    "        if bad_cond in weather:\n",
    "            bad_value += 1\n",
    "    return bad_value"
   ]
  },
  {
   "cell_type": "code",
   "execution_count": 16,
   "metadata": {},
   "outputs": [],
   "source": [
    "X['Weather_Condition'] = X['Weather_Condition'].apply(lambda weather: f(str(weather)))"
   ]
  },
  {
   "cell_type": "code",
   "execution_count": 17,
   "metadata": {},
   "outputs": [
    {
     "data": {
      "text/plain": [
       "0       0\n",
       "1       0\n",
       "2       0\n",
       "3       1\n",
       "4       0\n",
       "       ..\n",
       "9995    0\n",
       "9996    0\n",
       "9997    0\n",
       "9998    0\n",
       "9999    0\n",
       "Name: Weather_Condition, Length: 10000, dtype: int64"
      ]
     },
     "execution_count": 17,
     "metadata": {},
     "output_type": "execute_result"
    }
   ],
   "source": [
    "X['Weather_Condition']"
   ]
  },
  {
   "cell_type": "code",
   "execution_count": 18,
   "metadata": {},
   "outputs": [
    {
     "data": {
      "text/html": [
       "<div>\n",
       "<style scoped>\n",
       "    .dataframe tbody tr th:only-of-type {\n",
       "        vertical-align: middle;\n",
       "    }\n",
       "\n",
       "    .dataframe tbody tr th {\n",
       "        vertical-align: top;\n",
       "    }\n",
       "\n",
       "    .dataframe thead th {\n",
       "        text-align: right;\n",
       "    }\n",
       "</style>\n",
       "<table border=\"1\" class=\"dataframe\">\n",
       "  <thead>\n",
       "    <tr style=\"text-align: right;\">\n",
       "      <th></th>\n",
       "      <th>Airport_Code_0</th>\n",
       "      <th>Airport_Code_1</th>\n",
       "      <th>Airport_Code_2</th>\n",
       "      <th>Airport_Code_3</th>\n",
       "      <th>Airport_Code_4</th>\n",
       "      <th>Airport_Code_5</th>\n",
       "      <th>Airport_Code_6</th>\n",
       "      <th>Airport_Code_7</th>\n",
       "      <th>Airport_Code_8</th>\n",
       "      <th>Airport_Code_9</th>\n",
       "      <th>...</th>\n",
       "      <th>Timezone</th>\n",
       "      <th>Country</th>\n",
       "      <th>Temperature(F)</th>\n",
       "      <th>Wind_Chill(F)</th>\n",
       "      <th>Humidity(%)</th>\n",
       "      <th>Pressure(in)</th>\n",
       "      <th>Visibility(mi)</th>\n",
       "      <th>Description</th>\n",
       "      <th>Start_Time</th>\n",
       "      <th>Weather_Condition</th>\n",
       "    </tr>\n",
       "  </thead>\n",
       "  <tbody>\n",
       "    <tr>\n",
       "      <th>0</th>\n",
       "      <td>0</td>\n",
       "      <td>0</td>\n",
       "      <td>0</td>\n",
       "      <td>0</td>\n",
       "      <td>0</td>\n",
       "      <td>0</td>\n",
       "      <td>0</td>\n",
       "      <td>0</td>\n",
       "      <td>0</td>\n",
       "      <td>0</td>\n",
       "      <td>...</td>\n",
       "      <td>US/Central</td>\n",
       "      <td>US</td>\n",
       "      <td>76.0</td>\n",
       "      <td>76.0</td>\n",
       "      <td>82.0</td>\n",
       "      <td>29.40</td>\n",
       "      <td>10.0</td>\n",
       "      <td>14</td>\n",
       "      <td>24249</td>\n",
       "      <td>0</td>\n",
       "    </tr>\n",
       "    <tr>\n",
       "      <th>1</th>\n",
       "      <td>0</td>\n",
       "      <td>0</td>\n",
       "      <td>0</td>\n",
       "      <td>0</td>\n",
       "      <td>0</td>\n",
       "      <td>0</td>\n",
       "      <td>0</td>\n",
       "      <td>0</td>\n",
       "      <td>0</td>\n",
       "      <td>1</td>\n",
       "      <td>...</td>\n",
       "      <td>US/Pacific</td>\n",
       "      <td>US</td>\n",
       "      <td>46.0</td>\n",
       "      <td>46.0</td>\n",
       "      <td>68.0</td>\n",
       "      <td>29.42</td>\n",
       "      <td>10.0</td>\n",
       "      <td>20</td>\n",
       "      <td>24277</td>\n",
       "      <td>0</td>\n",
       "    </tr>\n",
       "    <tr>\n",
       "      <th>2</th>\n",
       "      <td>0</td>\n",
       "      <td>0</td>\n",
       "      <td>0</td>\n",
       "      <td>0</td>\n",
       "      <td>0</td>\n",
       "      <td>0</td>\n",
       "      <td>0</td>\n",
       "      <td>0</td>\n",
       "      <td>0</td>\n",
       "      <td>1</td>\n",
       "      <td>...</td>\n",
       "      <td>US/Eastern</td>\n",
       "      <td>US</td>\n",
       "      <td>43.0</td>\n",
       "      <td>39.0</td>\n",
       "      <td>56.0</td>\n",
       "      <td>29.68</td>\n",
       "      <td>10.0</td>\n",
       "      <td>12</td>\n",
       "      <td>24264</td>\n",
       "      <td>0</td>\n",
       "    </tr>\n",
       "    <tr>\n",
       "      <th>3</th>\n",
       "      <td>0</td>\n",
       "      <td>0</td>\n",
       "      <td>0</td>\n",
       "      <td>0</td>\n",
       "      <td>0</td>\n",
       "      <td>0</td>\n",
       "      <td>0</td>\n",
       "      <td>0</td>\n",
       "      <td>1</td>\n",
       "      <td>0</td>\n",
       "      <td>...</td>\n",
       "      <td>US/Eastern</td>\n",
       "      <td>US</td>\n",
       "      <td>78.0</td>\n",
       "      <td>78.0</td>\n",
       "      <td>87.0</td>\n",
       "      <td>29.43</td>\n",
       "      <td>3.0</td>\n",
       "      <td>7</td>\n",
       "      <td>24249</td>\n",
       "      <td>1</td>\n",
       "    </tr>\n",
       "    <tr>\n",
       "      <th>4</th>\n",
       "      <td>0</td>\n",
       "      <td>0</td>\n",
       "      <td>0</td>\n",
       "      <td>0</td>\n",
       "      <td>0</td>\n",
       "      <td>0</td>\n",
       "      <td>0</td>\n",
       "      <td>0</td>\n",
       "      <td>1</td>\n",
       "      <td>0</td>\n",
       "      <td>...</td>\n",
       "      <td>US/Pacific</td>\n",
       "      <td>US</td>\n",
       "      <td>64.0</td>\n",
       "      <td>64.0</td>\n",
       "      <td>65.0</td>\n",
       "      <td>29.88</td>\n",
       "      <td>10.0</td>\n",
       "      <td>5</td>\n",
       "      <td>24238</td>\n",
       "      <td>0</td>\n",
       "    </tr>\n",
       "    <tr>\n",
       "      <th>...</th>\n",
       "      <td>...</td>\n",
       "      <td>...</td>\n",
       "      <td>...</td>\n",
       "      <td>...</td>\n",
       "      <td>...</td>\n",
       "      <td>...</td>\n",
       "      <td>...</td>\n",
       "      <td>...</td>\n",
       "      <td>...</td>\n",
       "      <td>...</td>\n",
       "      <td>...</td>\n",
       "      <td>...</td>\n",
       "      <td>...</td>\n",
       "      <td>...</td>\n",
       "      <td>...</td>\n",
       "      <td>...</td>\n",
       "      <td>...</td>\n",
       "      <td>...</td>\n",
       "      <td>...</td>\n",
       "      <td>...</td>\n",
       "      <td>...</td>\n",
       "    </tr>\n",
       "    <tr>\n",
       "      <th>9995</th>\n",
       "      <td>0</td>\n",
       "      <td>0</td>\n",
       "      <td>0</td>\n",
       "      <td>0</td>\n",
       "      <td>0</td>\n",
       "      <td>1</td>\n",
       "      <td>1</td>\n",
       "      <td>1</td>\n",
       "      <td>0</td>\n",
       "      <td>0</td>\n",
       "      <td>...</td>\n",
       "      <td>US/Mountain</td>\n",
       "      <td>US</td>\n",
       "      <td>83.0</td>\n",
       "      <td>83.0</td>\n",
       "      <td>64.0</td>\n",
       "      <td>27.06</td>\n",
       "      <td>10.0</td>\n",
       "      <td>13</td>\n",
       "      <td>24272</td>\n",
       "      <td>0</td>\n",
       "    </tr>\n",
       "    <tr>\n",
       "      <th>9996</th>\n",
       "      <td>0</td>\n",
       "      <td>0</td>\n",
       "      <td>0</td>\n",
       "      <td>0</td>\n",
       "      <td>0</td>\n",
       "      <td>0</td>\n",
       "      <td>1</td>\n",
       "      <td>1</td>\n",
       "      <td>1</td>\n",
       "      <td>1</td>\n",
       "      <td>...</td>\n",
       "      <td>US/Eastern</td>\n",
       "      <td>US</td>\n",
       "      <td>60.0</td>\n",
       "      <td>60.0</td>\n",
       "      <td>80.0</td>\n",
       "      <td>30.00</td>\n",
       "      <td>10.0</td>\n",
       "      <td>15</td>\n",
       "      <td>24255</td>\n",
       "      <td>0</td>\n",
       "    </tr>\n",
       "    <tr>\n",
       "      <th>9997</th>\n",
       "      <td>0</td>\n",
       "      <td>1</td>\n",
       "      <td>0</td>\n",
       "      <td>0</td>\n",
       "      <td>1</td>\n",
       "      <td>0</td>\n",
       "      <td>0</td>\n",
       "      <td>0</td>\n",
       "      <td>0</td>\n",
       "      <td>0</td>\n",
       "      <td>...</td>\n",
       "      <td>US/Pacific</td>\n",
       "      <td>US</td>\n",
       "      <td>65.0</td>\n",
       "      <td>65.0</td>\n",
       "      <td>61.0</td>\n",
       "      <td>30.15</td>\n",
       "      <td>8.0</td>\n",
       "      <td>7</td>\n",
       "      <td>24241</td>\n",
       "      <td>0</td>\n",
       "    </tr>\n",
       "    <tr>\n",
       "      <th>9998</th>\n",
       "      <td>0</td>\n",
       "      <td>0</td>\n",
       "      <td>0</td>\n",
       "      <td>0</td>\n",
       "      <td>1</td>\n",
       "      <td>1</td>\n",
       "      <td>1</td>\n",
       "      <td>1</td>\n",
       "      <td>1</td>\n",
       "      <td>0</td>\n",
       "      <td>...</td>\n",
       "      <td>US/Pacific</td>\n",
       "      <td>US</td>\n",
       "      <td>73.0</td>\n",
       "      <td>73.0</td>\n",
       "      <td>48.0</td>\n",
       "      <td>30.09</td>\n",
       "      <td>10.0</td>\n",
       "      <td>5</td>\n",
       "      <td>24215</td>\n",
       "      <td>0</td>\n",
       "    </tr>\n",
       "    <tr>\n",
       "      <th>9999</th>\n",
       "      <td>0</td>\n",
       "      <td>0</td>\n",
       "      <td>1</td>\n",
       "      <td>0</td>\n",
       "      <td>1</td>\n",
       "      <td>1</td>\n",
       "      <td>0</td>\n",
       "      <td>1</td>\n",
       "      <td>0</td>\n",
       "      <td>1</td>\n",
       "      <td>...</td>\n",
       "      <td>US/Central</td>\n",
       "      <td>US</td>\n",
       "      <td>69.0</td>\n",
       "      <td>69.0</td>\n",
       "      <td>76.0</td>\n",
       "      <td>29.39</td>\n",
       "      <td>10.0</td>\n",
       "      <td>10</td>\n",
       "      <td>24271</td>\n",
       "      <td>0</td>\n",
       "    </tr>\n",
       "  </tbody>\n",
       "</table>\n",
       "<p>10000 rows × 23 columns</p>\n",
       "</div>"
      ],
      "text/plain": [
       "      Airport_Code_0  Airport_Code_1  Airport_Code_2  Airport_Code_3  \\\n",
       "0                  0               0               0               0   \n",
       "1                  0               0               0               0   \n",
       "2                  0               0               0               0   \n",
       "3                  0               0               0               0   \n",
       "4                  0               0               0               0   \n",
       "...              ...             ...             ...             ...   \n",
       "9995               0               0               0               0   \n",
       "9996               0               0               0               0   \n",
       "9997               0               1               0               0   \n",
       "9998               0               0               0               0   \n",
       "9999               0               0               1               0   \n",
       "\n",
       "      Airport_Code_4  Airport_Code_5  Airport_Code_6  Airport_Code_7  \\\n",
       "0                  0               0               0               0   \n",
       "1                  0               0               0               0   \n",
       "2                  0               0               0               0   \n",
       "3                  0               0               0               0   \n",
       "4                  0               0               0               0   \n",
       "...              ...             ...             ...             ...   \n",
       "9995               0               1               1               1   \n",
       "9996               0               0               1               1   \n",
       "9997               1               0               0               0   \n",
       "9998               1               1               1               1   \n",
       "9999               1               1               0               1   \n",
       "\n",
       "      Airport_Code_8  Airport_Code_9  ...     Timezone  Country  \\\n",
       "0                  0               0  ...   US/Central       US   \n",
       "1                  0               1  ...   US/Pacific       US   \n",
       "2                  0               1  ...   US/Eastern       US   \n",
       "3                  1               0  ...   US/Eastern       US   \n",
       "4                  1               0  ...   US/Pacific       US   \n",
       "...              ...             ...  ...          ...      ...   \n",
       "9995               0               0  ...  US/Mountain       US   \n",
       "9996               1               1  ...   US/Eastern       US   \n",
       "9997               0               0  ...   US/Pacific       US   \n",
       "9998               1               0  ...   US/Pacific       US   \n",
       "9999               0               1  ...   US/Central       US   \n",
       "\n",
       "     Temperature(F) Wind_Chill(F) Humidity(%)  Pressure(in)  Visibility(mi)  \\\n",
       "0              76.0          76.0        82.0         29.40            10.0   \n",
       "1              46.0          46.0        68.0         29.42            10.0   \n",
       "2              43.0          39.0        56.0         29.68            10.0   \n",
       "3              78.0          78.0        87.0         29.43             3.0   \n",
       "4              64.0          64.0        65.0         29.88            10.0   \n",
       "...             ...           ...         ...           ...             ...   \n",
       "9995           83.0          83.0        64.0         27.06            10.0   \n",
       "9996           60.0          60.0        80.0         30.00            10.0   \n",
       "9997           65.0          65.0        61.0         30.15             8.0   \n",
       "9998           73.0          73.0        48.0         30.09            10.0   \n",
       "9999           69.0          69.0        76.0         29.39            10.0   \n",
       "\n",
       "      Description  Start_Time  Weather_Condition  \n",
       "0              14       24249                  0  \n",
       "1              20       24277                  0  \n",
       "2              12       24264                  0  \n",
       "3               7       24249                  1  \n",
       "4               5       24238                  0  \n",
       "...           ...         ...                ...  \n",
       "9995           13       24272                  0  \n",
       "9996           15       24255                  0  \n",
       "9997            7       24241                  0  \n",
       "9998            5       24215                  0  \n",
       "9999           10       24271                  0  \n",
       "\n",
       "[10000 rows x 23 columns]"
      ]
     },
     "execution_count": 18,
     "metadata": {},
     "output_type": "execute_result"
    }
   ],
   "source": [
    "X"
   ]
  },
  {
   "cell_type": "code",
   "execution_count": 19,
   "metadata": {},
   "outputs": [],
   "source": [
    "# define pipline\n",
    "std_scalar = StandardScaler(with_mean=False)\n",
    "onehot_encoder = OneHotEncoder(handle_unknown='ignore')\n",
    "pipeline_transforms = []\n",
    "pipeline_transforms.append(('StandardScaler', std_scalar, numerical_cols))\n",
    "pipeline_transforms.append(('OneHotEncoder', onehot_encoder, onehot_encoder_cols))\n",
    "pipeline_transforms = sorted(pipeline_transforms, key=lambda x: x[0], reverse=True)\n",
    "pipeline_transforms = ('pipeline_transforms',\n",
    "                        ColumnTransformer(remainder='passthrough',\n",
    "                                            transformers=pipeline_transforms))\n",
    "rf = RandomForestClassifier(max_depth=10, n_estimators=4, random_state=24)\n",
    "pipeline_estimator = ('RandomForestClassifier', rf)\n",
    "pipeline = Pipeline(steps=[pipeline_transforms, pipeline_estimator])"
   ]
  },
  {
   "cell_type": "code",
   "execution_count": 20,
   "metadata": {},
   "outputs": [
    {
     "data": {
      "text/plain": [
       "0       3\n",
       "1       2\n",
       "2       3\n",
       "3       2\n",
       "4       2\n",
       "       ..\n",
       "9995    2\n",
       "9996    2\n",
       "9997    2\n",
       "9998    2\n",
       "9999    2\n",
       "Name: Severity, Length: 10000, dtype: int64"
      ]
     },
     "execution_count": 20,
     "metadata": {},
     "output_type": "execute_result"
    }
   ],
   "source": [
    "y = y[0:10000]\n",
    "y"
   ]
  },
  {
   "cell_type": "code",
   "execution_count": 23,
   "metadata": {},
   "outputs": [
    {
     "data": {
      "text/plain": [
       "Pipeline(memory=None,\n",
       "         steps=[('pipeline_transforms',\n",
       "                 ColumnTransformer(n_jobs=None, remainder='passthrough',\n",
       "                                   sparse_threshold=0.3,\n",
       "                                   transformer_weights=None,\n",
       "                                   transformers=[('StandardScaler',\n",
       "                                                  StandardScaler(copy=True,\n",
       "                                                                 with_mean=False,\n",
       "                                                                 with_std=True),\n",
       "                                                  ['Temperature(F)',\n",
       "                                                   'Wind_Chill(F)',\n",
       "                                                   'Humidity(%)',\n",
       "                                                   'Pressure(in)',\n",
       "                                                   'Visibility(mi)']),\n",
       "                                                 ('OneHotEncoder',\n",
       "                                                  OneHotEncode...\n",
       "                 RandomForestClassifier(bootstrap=True, ccp_alpha=0.0,\n",
       "                                        class_weight=None, criterion='gini',\n",
       "                                        max_depth=10, max_features='auto',\n",
       "                                        max_leaf_nodes=None, max_samples=None,\n",
       "                                        min_impurity_decrease=0.0,\n",
       "                                        min_impurity_split=None,\n",
       "                                        min_samples_leaf=1, min_samples_split=2,\n",
       "                                        min_weight_fraction_leaf=0.0,\n",
       "                                        n_estimators=4, n_jobs=None,\n",
       "                                        oob_score=False, random_state=24,\n",
       "                                        verbose=0, warm_start=False))],\n",
       "         verbose=False)"
      ]
     },
     "execution_count": 23,
     "metadata": {},
     "output_type": "execute_result"
    }
   ],
   "source": [
    "# train model\n",
    "pipeline.fit(X, y)"
   ]
  },
  {
   "cell_type": "code",
   "execution_count": 27,
   "metadata": {},
   "outputs": [
    {
     "data": {
      "text/plain": [
       "array([3, 2, 3, 2, 2, 2, 2, 3, 2, 3])"
      ]
     },
     "execution_count": 27,
     "metadata": {},
     "output_type": "execute_result"
    }
   ],
   "source": [
    "pipeline.predict(X[0:10])"
   ]
  },
  {
   "cell_type": "code",
   "execution_count": null,
   "metadata": {},
   "outputs": [],
   "source": []
  }
 ],
 "metadata": {
  "kernelspec": {
   "display_name": "Python 3",
   "language": "python",
   "name": "python3"
  },
  "language_info": {
   "codemirror_mode": {
    "name": "ipython",
    "version": 3
   },
   "file_extension": ".py",
   "mimetype": "text/x-python",
   "name": "python",
   "nbconvert_exporter": "python",
   "pygments_lexer": "ipython3",
   "version": "3.7.12"
  }
 },
 "nbformat": 4,
 "nbformat_minor": 2
}
